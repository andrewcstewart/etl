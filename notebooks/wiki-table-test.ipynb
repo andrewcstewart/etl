{
 "metadata": {
  "language_info": {
   "codemirror_mode": {
    "name": "ipython",
    "version": 3
   },
   "file_extension": ".py",
   "mimetype": "text/x-python",
   "name": "python",
   "nbconvert_exporter": "python",
   "pygments_lexer": "ipython3",
   "version": "3.7.3-final"
  },
  "orig_nbformat": 2,
  "kernelspec": {
   "name": "python3",
   "display_name": "Python 3"
  }
 },
 "nbformat": 4,
 "nbformat_minor": 2,
 "cells": [
  {
   "cell_type": "code",
   "execution_count": 1,
   "metadata": {},
   "outputs": [],
   "source": [
    "import pandas as pd # library for data analysis\n",
    "import requests # library to handle requests\n",
    "from bs4 import BeautifulSoup # library to parse HTML documents\n",
    "from janitor import clean_names"
   ]
  },
  {
   "cell_type": "code",
   "execution_count": 6,
   "metadata": {},
   "outputs": [
    {
     "output_type": "stream",
     "name": "stdout",
     "text": [
      "200\n"
     ]
    }
   ],
   "source": [
    "# get the response in the form of html\n",
    "wikiurl=\"https://en.wikipedia.org/wiki/List_of_cities_in_India_by_population\"\n",
    "wikiurl=\"https://en.wikipedia.org/wiki/List_of_countries_by_system_of_government\"\n",
    "table_class=\"wikitable sortable jquery-tablesorter\"\n",
    "response=requests.get(wikiurl)\n",
    "print(response.status_code)"
   ]
  },
  {
   "cell_type": "code",
   "execution_count": 3,
   "metadata": {},
   "outputs": [
    {
     "output_type": "execute_result",
     "data": {
      "text/plain": [
       "<Response [200]>"
      ]
     },
     "metadata": {},
     "execution_count": 3
    }
   ],
   "source": [
    "response"
   ]
  },
  {
   "cell_type": "code",
   "execution_count": 7,
   "metadata": {},
   "outputs": [],
   "source": [
    "soup = BeautifulSoup(response.text, 'html.parser')\n",
    "indiatable=soup.find('table',{'class':\"wikitable\"})"
   ]
  },
  {
   "cell_type": "code",
   "execution_count": 18,
   "metadata": {},
   "outputs": [],
   "source": [
    "df=pd.read_html(str(indiatable))\n",
    "# convert list to dataframe\n",
    "df=pd.DataFrame(df[0])\n",
    "df = clean_names(df)"
   ]
  },
  {
   "cell_type": "code",
   "execution_count": 19,
   "metadata": {},
   "outputs": [
    {
     "output_type": "execute_result",
     "data": {
      "text/plain": [
       "          name      constitutional_form head_of_state  \\\n",
       "0  Afghanistan                 Republic     Executive   \n",
       "1      Albania                 Republic    Ceremonial   \n",
       "2      Algeria                 Republic     Executive   \n",
       "3      Andorra  Constitutional monarchy    Ceremonial   \n",
       "4       Angola                 Republic     Executive   \n",
       "\n",
       "                       basis_of_executive_legitimacy  \n",
       "0           Presidency is independent of legislature  \n",
       "1    Ministry is subject to parliamentary confidence  \n",
       "2  Presidency independent of legislature; ministr...  \n",
       "3    Ministry is subject to parliamentary confidence  \n",
       "4           Presidency is independent of legislature  "
      ],
      "text/html": "<div>\n<style scoped>\n    .dataframe tbody tr th:only-of-type {\n        vertical-align: middle;\n    }\n\n    .dataframe tbody tr th {\n        vertical-align: top;\n    }\n\n    .dataframe thead th {\n        text-align: right;\n    }\n</style>\n<table border=\"1\" class=\"dataframe\">\n  <thead>\n    <tr style=\"text-align: right;\">\n      <th></th>\n      <th>name</th>\n      <th>constitutional_form</th>\n      <th>head_of_state</th>\n      <th>basis_of_executive_legitimacy</th>\n    </tr>\n  </thead>\n  <tbody>\n    <tr>\n      <th>0</th>\n      <td>Afghanistan</td>\n      <td>Republic</td>\n      <td>Executive</td>\n      <td>Presidency is independent of legislature</td>\n    </tr>\n    <tr>\n      <th>1</th>\n      <td>Albania</td>\n      <td>Republic</td>\n      <td>Ceremonial</td>\n      <td>Ministry is subject to parliamentary confidence</td>\n    </tr>\n    <tr>\n      <th>2</th>\n      <td>Algeria</td>\n      <td>Republic</td>\n      <td>Executive</td>\n      <td>Presidency independent of legislature; ministr...</td>\n    </tr>\n    <tr>\n      <th>3</th>\n      <td>Andorra</td>\n      <td>Constitutional monarchy</td>\n      <td>Ceremonial</td>\n      <td>Ministry is subject to parliamentary confidence</td>\n    </tr>\n    <tr>\n      <th>4</th>\n      <td>Angola</td>\n      <td>Republic</td>\n      <td>Executive</td>\n      <td>Presidency is independent of legislature</td>\n    </tr>\n  </tbody>\n</table>\n</div>"
     },
     "metadata": {},
     "execution_count": 19
    }
   ],
   "source": [
    "df.head()"
   ]
  },
  {
   "cell_type": "code",
   "execution_count": 17,
   "metadata": {},
   "outputs": [
    {
     "output_type": "execute_result",
     "data": {
      "text/plain": [
       "            name      constitutional_form head_of_state  \\\n",
       "0    Afghanistan                 Republic     Executive   \n",
       "1        Albania                 Republic    Ceremonial   \n",
       "2        Algeria                 Republic     Executive   \n",
       "3        Andorra  Constitutional monarchy    Ceremonial   \n",
       "4         Angola                 Republic     Executive   \n",
       "..           ...                      ...           ...   \n",
       "190    Venezuela                 Republic     Executive   \n",
       "191      Vietnam                 Republic     Executive   \n",
       "192        Yemen                      NaN           NaN   \n",
       "193       Zambia                 Republic     Executive   \n",
       "194     Zimbabwe                 Republic     Executive   \n",
       "\n",
       "                         basis_of_executive_legitimacy  \n",
       "0             Presidency is independent of legislature  \n",
       "1      Ministry is subject to parliamentary confidence  \n",
       "2    Presidency independent of legislature; ministr...  \n",
       "3      Ministry is subject to parliamentary confidence  \n",
       "4             Presidency is independent of legislature  \n",
       "..                                                 ...  \n",
       "190           Presidency is independent of legislature  \n",
       "191  Power constitutionally linked to a single poli...  \n",
       "192  No constitutionally-defined basis to current r...  \n",
       "193           Presidency is independent of legislature  \n",
       "194           Presidency is independent of legislature  \n",
       "\n",
       "[195 rows x 4 columns]"
      ],
      "text/html": "<div>\n<style scoped>\n    .dataframe tbody tr th:only-of-type {\n        vertical-align: middle;\n    }\n\n    .dataframe tbody tr th {\n        vertical-align: top;\n    }\n\n    .dataframe thead th {\n        text-align: right;\n    }\n</style>\n<table border=\"1\" class=\"dataframe\">\n  <thead>\n    <tr style=\"text-align: right;\">\n      <th></th>\n      <th>name</th>\n      <th>constitutional_form</th>\n      <th>head_of_state</th>\n      <th>basis_of_executive_legitimacy</th>\n    </tr>\n  </thead>\n  <tbody>\n    <tr>\n      <th>0</th>\n      <td>Afghanistan</td>\n      <td>Republic</td>\n      <td>Executive</td>\n      <td>Presidency is independent of legislature</td>\n    </tr>\n    <tr>\n      <th>1</th>\n      <td>Albania</td>\n      <td>Republic</td>\n      <td>Ceremonial</td>\n      <td>Ministry is subject to parliamentary confidence</td>\n    </tr>\n    <tr>\n      <th>2</th>\n      <td>Algeria</td>\n      <td>Republic</td>\n      <td>Executive</td>\n      <td>Presidency independent of legislature; ministr...</td>\n    </tr>\n    <tr>\n      <th>3</th>\n      <td>Andorra</td>\n      <td>Constitutional monarchy</td>\n      <td>Ceremonial</td>\n      <td>Ministry is subject to parliamentary confidence</td>\n    </tr>\n    <tr>\n      <th>4</th>\n      <td>Angola</td>\n      <td>Republic</td>\n      <td>Executive</td>\n      <td>Presidency is independent of legislature</td>\n    </tr>\n    <tr>\n      <th>...</th>\n      <td>...</td>\n      <td>...</td>\n      <td>...</td>\n      <td>...</td>\n    </tr>\n    <tr>\n      <th>190</th>\n      <td>Venezuela</td>\n      <td>Republic</td>\n      <td>Executive</td>\n      <td>Presidency is independent of legislature</td>\n    </tr>\n    <tr>\n      <th>191</th>\n      <td>Vietnam</td>\n      <td>Republic</td>\n      <td>Executive</td>\n      <td>Power constitutionally linked to a single poli...</td>\n    </tr>\n    <tr>\n      <th>192</th>\n      <td>Yemen</td>\n      <td>NaN</td>\n      <td>NaN</td>\n      <td>No constitutionally-defined basis to current r...</td>\n    </tr>\n    <tr>\n      <th>193</th>\n      <td>Zambia</td>\n      <td>Republic</td>\n      <td>Executive</td>\n      <td>Presidency is independent of legislature</td>\n    </tr>\n    <tr>\n      <th>194</th>\n      <td>Zimbabwe</td>\n      <td>Republic</td>\n      <td>Executive</td>\n      <td>Presidency is independent of legislature</td>\n    </tr>\n  </tbody>\n</table>\n<p>195 rows × 4 columns</p>\n</div>"
     },
     "metadata": {},
     "execution_count": 17
    }
   ],
   "source": [
    "df.write_csv(\"\")"
   ]
  },
  {
   "cell_type": "code",
   "execution_count": 22,
   "metadata": {},
   "outputs": [],
   "source": [
    "df.to_csv(\"../data/country-wp-systems-government.csv\", index=False)"
   ]
  },
  {
   "cell_type": "code",
   "execution_count": null,
   "metadata": {},
   "outputs": [],
   "source": []
  }
 ]
}